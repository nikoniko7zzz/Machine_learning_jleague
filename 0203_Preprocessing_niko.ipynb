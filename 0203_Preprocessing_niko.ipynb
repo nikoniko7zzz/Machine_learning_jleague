{
 "cells": [
  {
   "cell_type": "markdown",
   "metadata": {},
   "source": [
    "# 文字列を数字に変換\n",
    "0202_Preprocessing_niko.ipynbを読み込んで加工\n",
    "- 機械学習でモデルにデータを渡す際には、データの全てが数値であることが求められる\n",
    "- 特徴量となるデータを、文字列から数字に変換する"
   ]
  },
  {
   "cell_type": "markdown",
   "metadata": {},
   "source": [
    "## ライブラリのインポート"
   ]
  },
  {
   "cell_type": "code",
   "execution_count": 14,
   "metadata": {},
   "outputs": [],
   "source": [
    "import pandas as pd\n",
    "import numpy as np\n",
    "from matplotlib import pyplot as plt\n",
    "%matplotlib inline\n",
    "plt.rcParams[\"font.family\"] = \"IPAexGothic\" # 日本語の文字化け防止\n",
    "import seaborn as sns\n",
    "sns.set(font=\"IPAexGothic\",style=\"darkgrid\")\n",
    "pd.set_option(\"display.max_columns\", 50) #jupyter notebook上で表示できるカラム数を50に設定\n",
    "\n",
    "from sklearn.preprocessing import LabelEncoder # 文字列を数値にする"
   ]
  },
  {
   "cell_type": "markdown",
   "metadata": {},
   "source": [
    "## データの読み込み"
   ]
  },
  {
   "cell_type": "code",
   "execution_count": 15,
   "metadata": {},
   "outputs": [],
   "source": [
    "train = pd.read_csv(\"data/create/train_all_column_addition.csv\")\n",
    "test = pd.read_csv(\"data/create/test_all_column_addition.csv\")\n",
    "sample = pd.read_csv(\"data/received/sample_submit.csv\",header=None)"
   ]
  },
  {
   "cell_type": "code",
   "execution_count": 16,
   "metadata": {},
   "outputs": [
    {
     "data": {
      "text/html": [
       "<div>\n",
       "<style scoped>\n",
       "    .dataframe tbody tr th:only-of-type {\n",
       "        vertical-align: middle;\n",
       "    }\n",
       "\n",
       "    .dataframe tbody tr th {\n",
       "        vertical-align: top;\n",
       "    }\n",
       "\n",
       "    .dataframe thead th {\n",
       "        text-align: right;\n",
       "    }\n",
       "</style>\n",
       "<table border=\"1\" class=\"dataframe\">\n",
       "  <thead>\n",
       "    <tr style=\"text-align: right;\">\n",
       "      <th></th>\n",
       "      <th>id</th>\n",
       "      <th>y</th>\n",
       "      <th>year</th>\n",
       "      <th>stage</th>\n",
       "      <th>match</th>\n",
       "      <th>gameday</th>\n",
       "      <th>time</th>\n",
       "      <th>home</th>\n",
       "      <th>away</th>\n",
       "      <th>stadium</th>\n",
       "      <th>tv</th>\n",
       "      <th>home_score</th>\n",
       "      <th>away_score</th>\n",
       "      <th>weather</th>\n",
       "      <th>temperature</th>\n",
       "      <th>humidity</th>\n",
       "      <th>referee</th>\n",
       "      <th>home_team</th>\n",
       "      <th>home_01</th>\n",
       "      <th>home_02</th>\n",
       "      <th>home_03</th>\n",
       "      <th>home_04</th>\n",
       "      <th>home_05</th>\n",
       "      <th>home_06</th>\n",
       "      <th>home_07</th>\n",
       "      <th>...</th>\n",
       "      <th>away_05</th>\n",
       "      <th>away_06</th>\n",
       "      <th>away_07</th>\n",
       "      <th>away_08</th>\n",
       "      <th>away_09</th>\n",
       "      <th>away_10</th>\n",
       "      <th>away_11</th>\n",
       "      <th>address</th>\n",
       "      <th>capa</th>\n",
       "      <th>tv_num</th>\n",
       "      <th>home_lat</th>\n",
       "      <th>home_long</th>\n",
       "      <th>away_lat</th>\n",
       "      <th>away_long</th>\n",
       "      <th>distance_km</th>\n",
       "      <th>mobilization</th>\n",
       "      <th>stage_stadium</th>\n",
       "      <th>stadium_mobilization</th>\n",
       "      <th>MONTH</th>\n",
       "      <th>WEEK</th>\n",
       "      <th>timezone</th>\n",
       "      <th>WEEK_timezone_num</th>\n",
       "      <th>nhk</th>\n",
       "      <th>WEATHER</th>\n",
       "      <th>temp_condition</th>\n",
       "    </tr>\n",
       "  </thead>\n",
       "  <tbody>\n",
       "    <tr>\n",
       "      <th>0</th>\n",
       "      <td>13994</td>\n",
       "      <td>18250</td>\n",
       "      <td>2012</td>\n",
       "      <td>Ｊ１</td>\n",
       "      <td>第１節第１日</td>\n",
       "      <td>03/10(土)</td>\n",
       "      <td>14:04</td>\n",
       "      <td>ベガルタ仙台</td>\n",
       "      <td>鹿島アントラーズ</td>\n",
       "      <td>ユアテックスタジアム仙台</td>\n",
       "      <td>スカパー／ｅ２／スカパー光／ＮＨＫ総合</td>\n",
       "      <td>1</td>\n",
       "      <td>0</td>\n",
       "      <td>雨</td>\n",
       "      <td>3.8</td>\n",
       "      <td>66%</td>\n",
       "      <td>木村　博之</td>\n",
       "      <td>ベガルタ仙台</td>\n",
       "      <td>林　卓人</td>\n",
       "      <td>菅井　直樹</td>\n",
       "      <td>鎌田　次郎</td>\n",
       "      <td>上本　大海</td>\n",
       "      <td>田村　直也</td>\n",
       "      <td>富田　晋伍</td>\n",
       "      <td>角田　誠</td>\n",
       "      <td>...</td>\n",
       "      <td>アレックス</td>\n",
       "      <td>青木　剛</td>\n",
       "      <td>増田　誓志</td>\n",
       "      <td>小笠原　満男</td>\n",
       "      <td>本山　雅志</td>\n",
       "      <td>大迫　勇也</td>\n",
       "      <td>ジュニーニョ</td>\n",
       "      <td>宮城県仙台市泉区七北田字柳78</td>\n",
       "      <td>19694</td>\n",
       "      <td>4</td>\n",
       "      <td>38.319158</td>\n",
       "      <td>140.881857</td>\n",
       "      <td>35.992776</td>\n",
       "      <td>140.641766</td>\n",
       "      <td>259.062331</td>\n",
       "      <td>0.926678</td>\n",
       "      <td>Ｊ１ユアテックスタジアム仙台</td>\n",
       "      <td>0.766782</td>\n",
       "      <td>3</td>\n",
       "      <td>土</td>\n",
       "      <td>1</td>\n",
       "      <td>土1</td>\n",
       "      <td>1</td>\n",
       "      <td>雨</td>\n",
       "      <td>1.2</td>\n",
       "    </tr>\n",
       "  </tbody>\n",
       "</table>\n",
       "<p>1 rows × 59 columns</p>\n",
       "</div>"
      ],
      "text/plain": [
       "      id      y  year stage   match   gameday   time    home      away  \\\n",
       "0  13994  18250  2012    Ｊ１  第１節第１日  03/10(土)  14:04  ベガルタ仙台  鹿島アントラーズ   \n",
       "\n",
       "        stadium                   tv  home_score  away_score weather  \\\n",
       "0  ユアテックスタジアム仙台  スカパー／ｅ２／スカパー光／ＮＨＫ総合           1           0       雨   \n",
       "\n",
       "   temperature humidity referee home_team home_01 home_02 home_03 home_04  \\\n",
       "0          3.8      66%   木村　博之    ベガルタ仙台    林　卓人   菅井　直樹   鎌田　次郎   上本　大海   \n",
       "\n",
       "  home_05 home_06 home_07  ... away_05 away_06 away_07 away_08 away_09  \\\n",
       "0   田村　直也   富田　晋伍    角田　誠  ...   アレックス    青木　剛   増田　誓志  小笠原　満男   本山　雅志   \n",
       "\n",
       "  away_10 away_11          address   capa tv_num   home_lat   home_long  \\\n",
       "0   大迫　勇也  ジュニーニョ  宮城県仙台市泉区七北田字柳78  19694      4  38.319158  140.881857   \n",
       "\n",
       "    away_lat   away_long distance_km mobilization   stage_stadium  \\\n",
       "0  35.992776  140.641766  259.062331     0.926678  Ｊ１ユアテックスタジアム仙台   \n",
       "\n",
       "   stadium_mobilization  MONTH  WEEK  timezone  WEEK_timezone_num  nhk  \\\n",
       "0              0.766782      3     土         1                 土1    1   \n",
       "\n",
       "   WEATHER  temp_condition  \n",
       "0        雨             1.2  \n",
       "\n",
       "[1 rows x 59 columns]"
      ]
     },
     "execution_count": 16,
     "metadata": {},
     "output_type": "execute_result"
    }
   ],
   "source": [
    "train.head(1)"
   ]
  },
  {
   "cell_type": "code",
   "execution_count": 17,
   "metadata": {},
   "outputs": [
    {
     "data": {
      "text/plain": [
       "id                        int64\n",
       "y                         int64\n",
       "year                      int64\n",
       "stage                    object\n",
       "match                    object\n",
       "gameday                  object\n",
       "time                     object\n",
       "home                     object\n",
       "away                     object\n",
       "stadium                  object\n",
       "tv                       object\n",
       "home_score                int64\n",
       "away_score                int64\n",
       "weather                  object\n",
       "temperature             float64\n",
       "humidity                 object\n",
       "referee                  object\n",
       "home_team                object\n",
       "home_01                  object\n",
       "home_02                  object\n",
       "home_03                  object\n",
       "home_04                  object\n",
       "home_05                  object\n",
       "home_06                  object\n",
       "home_07                  object\n",
       "home_08                  object\n",
       "home_09                  object\n",
       "home_10                  object\n",
       "home_11                  object\n",
       "away_team                object\n",
       "away_01                  object\n",
       "away_02                  object\n",
       "away_03                  object\n",
       "away_04                  object\n",
       "away_05                  object\n",
       "away_06                  object\n",
       "away_07                  object\n",
       "away_08                  object\n",
       "away_09                  object\n",
       "away_10                  object\n",
       "away_11                  object\n",
       "address                  object\n",
       "capa                      int64\n",
       "tv_num                    int64\n",
       "home_lat                float64\n",
       "home_long               float64\n",
       "away_lat                float64\n",
       "away_long               float64\n",
       "distance_km             float64\n",
       "mobilization            float64\n",
       "stage_stadium            object\n",
       "stadium_mobilization    float64\n",
       "MONTH                     int64\n",
       "WEEK                     object\n",
       "timezone                  int64\n",
       "WEEK_timezone_num        object\n",
       "nhk                       int64\n",
       "WEATHER                  object\n",
       "temp_condition          float64\n",
       "dtype: object"
      ]
     },
     "execution_count": 17,
     "metadata": {},
     "output_type": "execute_result"
    }
   ],
   "source": [
    "train.dtypes"
   ]
  },
  {
   "cell_type": "markdown",
   "metadata": {},
   "source": [
    "## 特徴量として使いたい列を、数字にする\n",
    "- 'stage', 'WEEK', 'home', 'away', 'WEATHER', 'WEEK_timezone_num'\n",
    "  - 辞書を作って同じ番号を反映させる\n",
    "- 'stadium'\n",
    "  - `LabelEncoder`を使って、数字を作る"
   ]
  },
  {
   "cell_type": "markdown",
   "metadata": {},
   "source": [
    "### stage"
   ]
  },
  {
   "cell_type": "code",
   "execution_count": 18,
   "metadata": {},
   "outputs": [
    {
     "data": {
      "text/plain": [
       "0       0\n",
       "1       0\n",
       "2       0\n",
       "3       0\n",
       "4       0\n",
       "       ..\n",
       "1947    1\n",
       "1948    1\n",
       "1949    1\n",
       "1950    1\n",
       "1951    1\n",
       "Name: 0J1_1J2, Length: 1952, dtype: int64"
      ]
     },
     "execution_count": 18,
     "metadata": {},
     "output_type": "execute_result"
    }
   ],
   "source": [
    "train[\"0J1_1J2\"] = train[\"stage\"].apply(lambda x : 0 if x=='Ｊ１' else 1)\n",
    "train[\"0J1_1J2\"]"
   ]
  },
  {
   "cell_type": "markdown",
   "metadata": {},
   "source": [
    "### WEEK"
   ]
  },
  {
   "cell_type": "code",
   "execution_count": 19,
   "metadata": {},
   "outputs": [
    {
     "data": {
      "text/plain": [
       "0       5\n",
       "1       5\n",
       "2       5\n",
       "3       5\n",
       "4       5\n",
       "       ..\n",
       "1947    2\n",
       "1948    2\n",
       "1949    2\n",
       "1950    2\n",
       "1951    2\n",
       "Name: WEEK_num, Length: 1952, dtype: int64"
      ]
     },
     "execution_count": 19,
     "metadata": {},
     "output_type": "execute_result"
    }
   ],
   "source": [
    "week_dic ={\"月\":0, \"火\":1, \"水\":2, \"木\":3, \"金\":4, \"土\":5, \"日\":6}\n",
    "train[\"WEEK_num\"] = train[\"WEEK\"].apply(lambda x : week_dic.get(x) )\n",
    "train[\"WEEK_num\"]"
   ]
  },
  {
   "cell_type": "markdown",
   "metadata": {},
   "source": [
    "### homeとaway\n",
    "- チーム名に対する番号の辞書を作り、home列とaway列に反映させる"
   ]
  },
  {
   "cell_type": "code",
   "execution_count": 20,
   "metadata": {},
   "outputs": [
    {
     "data": {
      "text/plain": [
       "{'ベガルタ仙台': 0,\n",
       " '名古屋グランパス': 1,\n",
       " 'ガンバ大阪': 2,\n",
       " 'サンフレッチェ広島': 3,\n",
       " 'コンサドーレ札幌': 4,\n",
       " 'サガン鳥栖': 5,\n",
       " '川崎フロンターレ': 6,\n",
       " '大宮アルディージャ': 7,\n",
       " '柏レイソル': 8,\n",
       " '鹿島アントラーズ': 9,\n",
       " '浦和レッズ': 10,\n",
       " '横浜Ｆ・マリノス': 11,\n",
       " 'アルビレックス新潟': 12,\n",
       " 'セレッソ大阪': 13,\n",
       " '清水エスパルス': 14,\n",
       " 'ジュビロ磐田': 15,\n",
       " 'ヴィッセル神戸': 16,\n",
       " 'ＦＣ東京': 17,\n",
       " '水戸ホーリーホック': 18,\n",
       " '東京ヴェルディ': 19,\n",
       " 'ヴァンフォーレ甲府': 20,\n",
       " 'ＦＣ岐阜': 21,\n",
       " 'ファジアーノ岡山': 22,\n",
       " 'アビスパ福岡': 23,\n",
       " '大分トリニータ': 24,\n",
       " 'ジェフユナイテッド千葉': 25,\n",
       " '愛媛ＦＣ': 26,\n",
       " '湘南ベルマーレ': 27,\n",
       " 'ギラヴァンツ北九州': 28,\n",
       " '栃木ＳＣ': 29,\n",
       " 'ＦＣ町田ゼルビア': 30,\n",
       " '松本山雅ＦＣ': 31,\n",
       " '徳島ヴォルティス': 32,\n",
       " 'ザスパ草津': 33,\n",
       " '横浜ＦＣ': 34,\n",
       " 'ロアッソ熊本': 35,\n",
       " '京都サンガF.C.': 36,\n",
       " 'モンテディオ山形': 37,\n",
       " 'ガイナーレ鳥取': 38,\n",
       " 'カターレ富山': 39,\n",
       " 'ザスパクサツ群馬': 40,\n",
       " 'Ｖ・ファーレン長崎': 41,\n",
       " 'カマタマーレ讃岐': 42}"
      ]
     },
     "execution_count": 20,
     "metadata": {},
     "output_type": "execute_result"
    }
   ],
   "source": [
    "team_list = train['home'].drop_duplicates() # 43チーム\n",
    "num_list = [ _ for _ in range(0,43)]\n",
    "team_dic = dict(zip(team_list, num_list))\n",
    "team_dic"
   ]
  },
  {
   "cell_type": "code",
   "execution_count": 21,
   "metadata": {},
   "outputs": [
    {
     "data": {
      "text/plain": [
       "0        9\n",
       "1       14\n",
       "2       16\n",
       "3       10\n",
       "4       15\n",
       "        ..\n",
       "1947    42\n",
       "1948    22\n",
       "1949    27\n",
       "1950    29\n",
       "1951    28\n",
       "Name: away_num, Length: 1952, dtype: int64"
      ]
     },
     "execution_count": 21,
     "metadata": {},
     "output_type": "execute_result"
    }
   ],
   "source": [
    "train[\"home_num\"] = train[\"home\"].apply(lambda x : team_dic.get(x) )\n",
    "train[\"away_num\"] = train[\"away\"].apply(lambda x : team_dic.get(x) )\n",
    "train[\"away_num\"]"
   ]
  },
  {
   "cell_type": "markdown",
   "metadata": {},
   "source": [
    "### WEATHER"
   ]
  },
  {
   "cell_type": "code",
   "execution_count": 22,
   "metadata": {},
   "outputs": [
    {
     "data": {
      "text/plain": [
       "0       3\n",
       "1       1\n",
       "2       4\n",
       "3       2\n",
       "4       1\n",
       "       ..\n",
       "1947    4\n",
       "1948    4\n",
       "1949    2\n",
       "1950    3\n",
       "1951    4\n",
       "Name: WEATHER_num, Length: 1952, dtype: int64"
      ]
     },
     "execution_count": 22,
     "metadata": {},
     "output_type": "execute_result"
    }
   ],
   "source": [
    "week_dic ={\"雪\":0, \"屋\":1, \"曇\":2, \"雨\":3, \"晴\":4}\n",
    "train[\"WEATHER_num\"] = train[\"WEATHER\"].apply(lambda x : week_dic.get(x) )\n",
    "train[\"WEATHER_num\"]"
   ]
  },
  {
   "cell_type": "markdown",
   "metadata": {},
   "source": [
    "### WEEK_num + timezone_num"
   ]
  },
  {
   "cell_type": "code",
   "execution_count": 23,
   "metadata": {},
   "outputs": [],
   "source": [
    "train['WEEK_timezone_num'] = train.apply(lambda x: f\"{x['WEEK_num']}{x['timezone']}\", axis=1)"
   ]
  },
  {
   "cell_type": "markdown",
   "metadata": {},
   "source": [
    "### stadium\n",
    "ラベルエンコーディングを行うために、`LabelEncoder`クラスをインスタンス化  \n",
    "`fit()`によりstadium列に対してラベルエンコーディングを行う  \n",
    "`transform()`で数値へ変換"
   ]
  },
  {
   "cell_type": "code",
   "execution_count": 24,
   "metadata": {},
   "outputs": [
    {
     "data": {
      "text/plain": [
       "0       15\n",
       "1       48\n",
       "2       17\n",
       "3        3\n",
       "4       36\n",
       "        ..\n",
       "1947    13\n",
       "1948    32\n",
       "1949    16\n",
       "1950    26\n",
       "1951    40\n",
       "Name: stadium_num, Length: 1952, dtype: int64"
      ]
     },
     "execution_count": 24,
     "metadata": {},
     "output_type": "execute_result"
    }
   ],
   "source": [
    "enc = LabelEncoder()\n",
    "enc.fit_transform(train[\"stadium\"].values)\n",
    "train[\"stadium_num\"] = enc.fit_transform(train[\"stadium\"].values)\n",
    "train[\"stadium_num\"]"
   ]
  },
  {
   "cell_type": "markdown",
   "metadata": {},
   "source": [
    "### testも同様に行う"
   ]
  },
  {
   "cell_type": "code",
   "execution_count": 25,
   "metadata": {},
   "outputs": [
    {
     "data": {
      "text/plain": [
       "0      14\n",
       "1      36\n",
       "2      22\n",
       "3      28\n",
       "4       6\n",
       "       ..\n",
       "308    24\n",
       "309    17\n",
       "310    42\n",
       "311    15\n",
       "312    23\n",
       "Name: stadium_num, Length: 313, dtype: int64"
      ]
     },
     "execution_count": 25,
     "metadata": {},
     "output_type": "execute_result"
    }
   ],
   "source": [
    "# stage\n",
    "test[\"0J1_1J2\"] = test[\"stage\"].apply(lambda x : 0 if x=='Ｊ１' else 1)\n",
    "\n",
    "# WEEK\n",
    "test[\"WEEK_num\"] = test[\"WEEK\"].apply(lambda x : week_dic.get(x) )\n",
    "\n",
    "# homeとaway\n",
    "test[\"home_num\"] = test[\"home\"].apply(lambda x : team_dic.get(x) )\n",
    "test[\"away_num\"] = test[\"away\"].apply(lambda x : team_dic.get(x) )\n",
    "\n",
    "# WEATHER\n",
    "test[\"WEATHER_num\"] = test[\"WEATHER\"].apply(lambda x : week_dic.get(x) )\n",
    "test[\"WEATHER_num\"]\n",
    "\n",
    "# WEEK_num + timezone_num\n",
    "test['WEEK_timezone_num'] = test.apply(lambda x: f\"{x['WEEK_num']}{x['timezone']}\", axis=1)\n",
    "\n",
    "# stadium\n",
    "enc = LabelEncoder()\n",
    "enc.fit_transform(test[\"stadium\"].values)\n",
    "test[\"stadium_num\"] = enc.fit_transform(test[\"stadium\"].values)\n",
    "test[\"stadium_num\"]"
   ]
  },
  {
   "cell_type": "code",
   "execution_count": 26,
   "metadata": {},
   "outputs": [],
   "source": [
    "#文字コードをutf8に統一する為に、encoding=\"utf8\"というオプションを記載\n",
    "train.to_csv(\"data/create/train_all_column_addition_0203.csv\",index=None,encoding=\"utf8\")\n",
    "test.to_csv(\"data/create/test_all_column_addition_0203.csv\",index=None,encoding=\"utf8\")"
   ]
  }
 ],
 "metadata": {
  "interpreter": {
   "hash": "cacbfc12332d92f38e73347cfb9d89166cfdbd214fef3d08d82cb37cf58fe57e"
  },
  "kernelspec": {
   "display_name": "Python 3.9.10 64-bit ('environment_3_9_7': venv)",
   "language": "python",
   "name": "python3"
  },
  "language_info": {
   "codemirror_mode": {
    "name": "ipython",
    "version": 3
   },
   "file_extension": ".py",
   "mimetype": "text/x-python",
   "name": "python",
   "nbconvert_exporter": "python",
   "pygments_lexer": "ipython3",
   "version": "3.9.10"
  },
  "orig_nbformat": 4
 },
 "nbformat": 4,
 "nbformat_minor": 2
}
