{
 "cells": [
  {
   "cell_type": "markdown",
   "metadata": {},
   "source": [
    "# Rankingを生成\n",
    "- 前の試合にhome及びawayのチームが何位であったかを算出\n",
    "- 従って、第1節は欠損となる点に注意\n",
    "- idとteamをキーとして結合すれば説明変数の作成可"
   ]
  },
  {
   "cell_type": "markdown",
   "metadata": {},
   "source": [
    "### おまじない"
   ]
  },
  {
   "cell_type": "code",
   "execution_count": null,
   "metadata": {},
   "outputs": [],
   "source": [
    "import pandas as pd\n",
    "import numpy as np"
   ]
  },
  {
   "cell_type": "markdown",
   "metadata": {},
   "source": [
    "### データの読み込み"
   ]
  },
  {
   "cell_type": "code",
   "execution_count": null,
   "metadata": {},
   "outputs": [],
   "source": [
    "train = pd.read_csv(\"train.csv\")\n",
    "test = pd.read_csv(\"test.csv\")\n",
    "train_add = pd.read_csv(\"train_add.csv\")\n",
    "test_add = pd.read_csv(\"2014_add.csv\")\n",
    "condition = pd.read_csv(\"condition.csv\")\n",
    "cond_add = pd.read_csv(\"condition_add.csv\")"
   ]
  },
  {
   "cell_type": "markdown",
   "metadata": {},
   "source": [
    "### データの結合"
   ]
  },
  {
   "cell_type": "code",
   "execution_count": null,
   "metadata": {},
   "outputs": [],
   "source": [
    "tmp = pd.concat([train,train_add,test,test_add],sort=False).reset_index(drop=True).sort_values(by=\"id\")\n",
    "cond = pd.concat([condition,cond_add],sort=False).reset_index(drop=True).sort_values(by=\"id\")"
   ]
  },
  {
   "cell_type": "code",
   "execution_count": null,
   "metadata": {},
   "outputs": [],
   "source": [
    "tmp[\"match_num\"] = tmp[\"match\"].apply(lambda x : int(x[x.find(\"第\")+1:x.find(\"節\")]))\n",
    "cols = [\"id\",\"match_num\",\"home\",\"away\",\"year\",\"gameday\",\"stage\"]\n",
    "rank = pd.merge(tmp[cols],cond[[\"home_score\",\"away_score\",\"id\"]],on=\"id\")\n",
    "rank"
   ]
  },
  {
   "cell_type": "markdown",
   "metadata": {},
   "source": [
    "### 各試合の結果から勝ち点を計算し、scoreとして算出"
   ]
  },
  {
   "cell_type": "code",
   "execution_count": null,
   "metadata": {},
   "outputs": [],
   "source": [
    "rank[\"h_score\"] = rank.apply(lambda x : 3*(x[\"home_score\"]>x[\"away_score\"])+1*(x[\"home_score\"]==x[\"away_score\"]),axis=1)\n",
    "rank[\"a_score\"] = rank.apply(lambda x : 3*(x[\"home_score\"]<x[\"away_score\"])+1*(x[\"home_score\"]==x[\"away_score\"]),axis=1)\n",
    "tmp1 = rank.iloc[:,~rank.columns.str.contains(\"away\")].rename(columns={\"home\":\"team\",\"h_score\":\"score\"})\n",
    "tmp2 = rank.iloc[:,~rank.columns.str.contains(\"home\")].rename(columns={\"away\":\"team\",\"a_score\":\"score\"})\n",
    "tmp = pd.concat([tmp1,tmp2],sort=False).drop(columns=[\"a_score\",\"h_score\",\"away_score\",\"home_score\"])\n",
    "tmp = tmp.sort_values(by=\"id\").reset_index(drop=True)\n",
    "tmp.head(17)"
   ]
  },
  {
   "cell_type": "markdown",
   "metadata": {},
   "source": [
    "### 勝ち点を累積させ、各節における順位を算出"
   ]
  },
  {
   "cell_type": "code",
   "execution_count": null,
   "metadata": {
    "scrolled": true
   },
   "outputs": [],
   "source": [
    "tmp[\"scores\"] = tmp.groupby(by=[\"year\",\"team\"]).cumsum()[\"score\"]\n",
    "tmp[\"rank\"] = tmp.groupby(by=[\"year\",\"stage\",\"match_num\"])[\"scores\"].rank(method=\"min\",ascending=False)\n",
    "tmp"
   ]
  },
  {
   "cell_type": "markdown",
   "metadata": {},
   "source": [
    "### 次の試合の時に、現在何位であるかとするため、前の試合における順位をshiftさせる\n",
    "- その為、第一節はまだ試合を実施していないため欠損とする"
   ]
  },
  {
   "cell_type": "code",
   "execution_count": null,
   "metadata": {},
   "outputs": [],
   "source": [
    "tmp.sort_values(by=[\"team\",\"year\",\"match_num\"],inplace=True)\n",
    "tmp[\"rank_\"] = tmp[\"rank\"].shift(1)\n",
    "tmp[\"rank_\"] = tmp.apply(lambda x : np.nan if x[\"match_num\"]==1 else x[\"rank_\"], axis=1)\n",
    "tmp.to_csv(\"ranking.csv\",index=None,encoding=\"utf8\")"
   ]
  },
  {
   "cell_type": "markdown",
   "metadata": {},
   "source": [
    "### train_all及びtest_allに順位データを結合"
   ]
  },
  {
   "cell_type": "code",
   "execution_count": null,
   "metadata": {},
   "outputs": [],
   "source": [
    "train = pd.read_csv(\"train_all.csv\")\n",
    "test = pd.read_csv(\"test_all.csv\")"
   ]
  },
  {
   "cell_type": "code",
   "execution_count": null,
   "metadata": {},
   "outputs": [],
   "source": [
    "train_home_rank = pd.merge(train[[\"id\",\"home\"]],tmp[[\"id\",\"team\",\"rank_\"]],left_on=[\"id\",\"home\"],right_on=[\"id\",\"team\"])[\"rank_\"]\n",
    "train_away_rank = pd.merge(train[[\"id\",\"away\"]],tmp[[\"id\",\"team\",\"rank_\"]],left_on=[\"id\",\"away\"],right_on=[\"id\",\"team\"])[\"rank_\"]\n",
    "train[\"home_rank\"] = train_home_rank\n",
    "train[\"away_rank\"] = train_away_rank\n",
    "train"
   ]
  },
  {
   "cell_type": "code",
   "execution_count": null,
   "metadata": {},
   "outputs": [],
   "source": [
    "test_home_rank = pd.merge(test[[\"id\",\"home\"]],tmp[[\"id\",\"team\",\"rank_\"]],left_on=[\"id\",\"home\"],right_on=[\"id\",\"team\"])[\"rank_\"]\n",
    "test_away_rank = pd.merge(test[[\"id\",\"away\"]],tmp[[\"id\",\"team\",\"rank_\"]],left_on=[\"id\",\"away\"],right_on=[\"id\",\"team\"])[\"rank_\"]\n",
    "test[\"home_rank\"] = test_home_rank\n",
    "test[\"away_rank\"] = test_away_rank\n",
    "test"
   ]
  },
  {
   "cell_type": "code",
   "execution_count": null,
   "metadata": {},
   "outputs": [],
   "source": [
    "train.to_csv(\"train_all2.csv\",encoding=\"utf8\")\n",
    "test.to_csv(\"test_all2.csv\",encoding=\"utf8\")"
   ]
  }
 ],
 "metadata": {
  "kernelspec": {
   "display_name": "Python 3",
   "language": "python",
   "name": "python3"
  },
  "language_info": {
   "codemirror_mode": {
    "name": "ipython",
    "version": 3
   },
   "file_extension": ".py",
   "mimetype": "text/x-python",
   "name": "python",
   "nbconvert_exporter": "python",
   "pygments_lexer": "ipython3",
   "version": "3.6.4"
  }
 },
 "nbformat": 4,
 "nbformat_minor": 2
}
