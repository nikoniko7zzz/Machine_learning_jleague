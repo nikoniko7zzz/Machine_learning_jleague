{
 "cells": [
  {
   "cell_type": "markdown",
   "metadata": {},
   "source": [
    "# 住所から緯度経度を取得するpythonスニペット\n",
    "geocoding.jpのAPIを利用する。API提供元に迷惑をかけないようにアクセス間隔は10秒あける。"
   ]
  },
  {
   "cell_type": "code",
   "execution_count": 71,
   "metadata": {},
   "outputs": [
    {
     "name": "stdout",
     "output_type": "stream",
     "text": [
      "['35.711553', '139.761686']\n"
     ]
    }
   ],
   "source": [
    "import requests\n",
    "from bs4 import BeautifulSoup\n",
    "import time\n",
    "import tqdm\n",
    "\n",
    "\n",
    "URL = 'http://www.geocoding.jp/api/'\n",
    "\n",
    "\n",
    "def coordinate(address):\n",
    "    \"\"\"\n",
    "    addressに住所を指定すると緯度経度を返す。\n",
    "\n",
    "    >>> coordinate('東京都文京区本郷7-3-1')\n",
    "    ['35.712056', '139.762775']\n",
    "    \"\"\"\n",
    "    payload = {'q': address}\n",
    "    html = requests.get(URL, params=payload)\n",
    "    soup = BeautifulSoup(html.content, \"html.parser\")\n",
    "    if soup.find('error'):\n",
    "        raise ValueError(f\"Invalid address submitted. {address}\")\n",
    "    latitude = soup.find('lat').string\n",
    "    longitude = soup.find('lng').string\n",
    "    return [latitude, longitude]\n",
    "\n",
    "print(coordinate('東京都文京区本郷7-3-1'))"
   ]
  },
  {
   "cell_type": "code",
   "execution_count": 72,
   "metadata": {},
   "outputs": [],
   "source": [
    "import pandas as pd\n",
    "import numpy as np"
   ]
  },
  {
   "cell_type": "code",
   "execution_count": 73,
   "metadata": {},
   "outputs": [],
   "source": [
    "stadium = pd.read_csv(\"stadium.csv\")"
   ]
  },
  {
   "cell_type": "code",
   "execution_count": null,
   "metadata": {},
   "outputs": [],
   "source": [
    "# coordinate(address)を実施し、stadium['lat_long']に入れる\n",
    "stadium['lat_long'] = stadium['address'].apply(coordinate)\n",
    "stadium"
   ]
  },
  {
   "cell_type": "code",
   "execution_count": null,
   "metadata": {},
   "outputs": [],
   "source": [
    "# APIで取れていない55番を検索して追加登録\n",
    "# stadium.loc[stadium['name'] == '岡山県津山陸上競技場', 'lat_long'] = '[35.082384, 134.017423]'\n",
    "stadium.to_csv('stadium_custum1600.csv')\n",
    "stadium\n",
    "# OK"
   ]
  },
  {
   "cell_type": "code",
   "execution_count": null,
   "metadata": {},
   "outputs": [],
   "source": [
    "# aaa = stadium.loc[stadium['name'] == '岡山県津山陸上競技場', 'lat_long']\n",
    "# print(aaa)\n",
    "# print(aaa[1])\n",
    "\n",
    "# bbb = ''.join(aaa)\n",
    "# print(bbb[0])"
   ]
  }
 ],
 "metadata": {
  "interpreter": {
   "hash": "cacbfc12332d92f38e73347cfb9d89166cfdbd214fef3d08d82cb37cf58fe57e"
  },
  "kernelspec": {
   "display_name": "Python 3.9.10 64-bit ('environment_3_9_7': venv)",
   "language": "python",
   "name": "python3"
  },
  "language_info": {
   "codemirror_mode": {
    "name": "ipython",
    "version": 3
   },
   "file_extension": ".py",
   "mimetype": "text/x-python",
   "name": "python",
   "nbconvert_exporter": "python",
   "pygments_lexer": "ipython3",
   "version": "3.9.10"
  },
  "orig_nbformat": 4
 },
 "nbformat": 4,
 "nbformat_minor": 2
}
